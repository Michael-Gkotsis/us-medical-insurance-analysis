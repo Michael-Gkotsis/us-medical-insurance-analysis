{
 "cells": [
  {
   "cell_type": "markdown",
   "metadata": {},
   "source": [
    "# U.S. Medical Insurance Costs\n",
    "### The scope of this project is to use raw python for the analysis without using pandas and numpy."
   ]
  },
  {
   "cell_type": "code",
   "execution_count": 1,
   "metadata": {},
   "outputs": [],
   "source": [
    "import csv"
   ]
  },
  {
   "cell_type": "code",
   "execution_count": 2,
   "metadata": {},
   "outputs": [],
   "source": [
    "#Initializing our dictionary that is going to hold our data\n",
    "dataDict = {}"
   ]
  },
  {
   "cell_type": "code",
   "execution_count": 3,
   "metadata": {},
   "outputs": [],
   "source": [
    "with open(\"insurance.csv\") as data:\n",
    "    data_dict = csv.DictReader(data)\n",
    "    counter = 0\n",
    "    for row in data_dict:\n",
    "        dataDict[counter] = row\n",
    "        counter += 1"
   ]
  },
  {
   "cell_type": "markdown",
   "metadata": {},
   "source": [
    "### Our data are identified by columns:\n",
    "#### Age , Sex, Bmi, CHildren, smoker, Region, Charges"
   ]
  },
  {
   "cell_type": "code",
   "execution_count": 4,
   "metadata": {},
   "outputs": [
    {
     "name": "stdout",
     "output_type": "stream",
     "text": [
      "{'age': '19', 'sex': 'female', 'bmi': '27.9', 'children': '0', 'smoker': 'yes', 'region': 'southwest', 'charges': '16884.924'}\n"
     ]
    }
   ],
   "source": [
    "#accesing the first row to get a view of our values and decide if need to clear them or convert them\n",
    "#Age is string, it must be converted to int\n",
    "#Sex is string, can be converted to 0 for male 1 for female \n",
    "#bmi is string, it must be converted to float\n",
    "#children is string, it must be converted to int\n",
    "#smoker is string, it can be converted to 0 for non-smoker 1 for smoker\n",
    "#region is string, it can remain either this way or be converted depending on how many regions we explore\n",
    "#charges is string, it must be converted to float\n",
    "print(dataDict[0])"
   ]
  },
  {
   "cell_type": "markdown",
   "metadata": {},
   "source": [
    "### Converting bmi , age, children, charges from string to their corresponding types\n",
    "#### int for age and children, float for bmi and charges"
   ]
  },
  {
   "cell_type": "code",
   "execution_count": 5,
   "metadata": {},
   "outputs": [],
   "source": [
    "for row in dataDict:\n",
    "    dataDict[row]['bmi'] = float(dataDict[row]['bmi'])\n",
    "    dataDict[row]['age'] = int(dataDict[row]['age'])\n",
    "    dataDict[row]['children'] = int(dataDict[row]['children'])\n",
    "    dataDict[row]['charges'] = float(dataDict[row]['charges'])   "
   ]
  },
  {
   "cell_type": "code",
   "execution_count": 6,
   "metadata": {},
   "outputs": [
    {
     "name": "stdout",
     "output_type": "stream",
     "text": [
      "<class 'float'>\n",
      "<class 'int'>\n",
      "<class 'int'>\n",
      "<class 'float'>\n"
     ]
    }
   ],
   "source": [
    "#Data type conversion was succesfull\n",
    "print(type(dataDict[0]['bmi']))\n",
    "print(type(dataDict[0]['age']))\n",
    "print(type(dataDict[0]['children']))\n",
    "print(type(dataDict[0]['charges']))"
   ]
  },
  {
   "cell_type": "markdown",
   "metadata": {},
   "source": [
    "### Smoker , sex and region columns are categorical so they need their corresponding values\n",
    "#### 0 or 1 for smoker and sex according to our data(yes or no, male or female)\n",
    "#### and 0 to 3 for region(southwest, southeast, northwest, northeast)"
   ]
  },
  {
   "cell_type": "code",
   "execution_count": 7,
   "metadata": {},
   "outputs": [],
   "source": [
    "#Transforming smoker yes or no to 1 or 0\n",
    "for row in dataDict:\n",
    "    if dataDict[row]['smoker'] == 'yes':\n",
    "        dataDict[row]['smoker'] = 1\n",
    "    else:\n",
    "        dataDict[row]['smoker'] = 0"
   ]
  },
  {
   "cell_type": "code",
   "execution_count": 8,
   "metadata": {},
   "outputs": [],
   "source": [
    "for row in dataDict:\n",
    "    if dataDict[row]['sex'] == 'male':\n",
    "        dataDict[row]['sex'] = 0\n",
    "    else:\n",
    "        dataDict[row]['sex'] = 1   "
   ]
  },
  {
   "cell_type": "code",
   "execution_count": 9,
   "metadata": {},
   "outputs": [],
   "source": [
    "for row in dataDict:\n",
    "    if dataDict[row]['region'] == 'southwest':\n",
    "        dataDict[row]['region'] = 0\n",
    "    elif dataDict[row]['region'] == 'southeast':\n",
    "        dataDict[row]['region'] = 1\n",
    "    elif dataDict[row]['region'] == 'northwest':\n",
    "        dataDict[row]['region'] = 2\n",
    "    else:\n",
    "        dataDict[row]['region'] = 3"
   ]
  },
  {
   "cell_type": "markdown",
   "metadata": {},
   "source": [
    "### Creating empty lists for each of our columns and create a function to pass each corresponding value"
   ]
  },
  {
   "cell_type": "code",
   "execution_count": 10,
   "metadata": {},
   "outputs": [],
   "source": [
    "#Pass the values to lists\n",
    "age = []\n",
    "sex = []\n",
    "bmi = []\n",
    "children = []\n",
    "smoker = []\n",
    "charges = []\n",
    "region = []"
   ]
  },
  {
   "cell_type": "code",
   "execution_count": 11,
   "metadata": {},
   "outputs": [],
   "source": [
    "def pass_to_list(dataDict,category_name):\n",
    "    lst = [dataDict[i][category_name] for i in range(0,len(dataDict))]\n",
    "    return lst    "
   ]
  },
  {
   "cell_type": "code",
   "execution_count": 12,
   "metadata": {},
   "outputs": [],
   "source": [
    "age = pass_to_list(dataDict, 'age')\n",
    "smoker = pass_to_list(dataDict,'smoker')\n",
    "bmi = pass_to_list(dataDict, 'bmi')\n",
    "children = pass_to_list(dataDict, 'children')\n",
    "charges = pass_to_list(dataDict, 'charges')\n",
    "sex = pass_to_list(dataDict, 'sex')\n",
    "region = pass_to_list(dataDict, 'region')"
   ]
  },
  {
   "cell_type": "markdown",
   "metadata": {},
   "source": [
    "### After having our data almost ready it's time to decide what we want to find from our data\n",
    "#### 1st: Average age of our patients and correlation of age with charges\n",
    "#### 2nd: Average insurance_cost(charges list)\n",
    "#### 3d:  How many are smokers and how many non-smokers and the average of each category. Attempt to calculate correlation with charges\n",
    "#### 4th:Amount of patients for each region and average insurance cost of each region\n",
    "#### 5th: Count how many males and females in the dataset to check for proper sampling between sex and the average insurance cost of each category\n",
    "#### 6th: Average bmi of our patients and the correlation of bmi with charges\n",
    "#### 7th: Create a dictionary that is going to hold all of our patients"
   ]
  },
  {
   "cell_type": "markdown",
   "metadata": {},
   "source": [
    "### Before our analysis, let's create a class that is going to hold the majority of analysis methods"
   ]
  },
  {
   "cell_type": "code",
   "execution_count": 13,
   "metadata": {},
   "outputs": [],
   "source": [
    "class Patient():\n",
    "    def __init__(self, age, sex, bmi, children, smoker, region, charges):\n",
    "        self.age = age\n",
    "        self.sex = sex\n",
    "        self.bmi = bmi\n",
    "        self.children = children\n",
    "        self.smoker = smoker\n",
    "        self.region = region\n",
    "        self.charges = charges\n",
    "        \n",
    "    #Method for analyzing\n",
    "    def get_mean(self, lst):\n",
    "        mean = sum(lst)/len(lst)\n",
    "        return mean\n",
    "    \n",
    "    def variance(self,lst):\n",
    "        n = len(lst) - 1\n",
    "        mean = self.get_mean(lst)\n",
    "        return sum((x - mean) ** 2 for x in lst) / n\n",
    "    \n",
    "    def stdev(self,data):\n",
    "        var = self.variance(data)\n",
    "        std_dev = var ** 0.5\n",
    "        return std_dev\n",
    "    \n",
    "    def get_covariance(self, lst1, lst2):\n",
    "        mean_lst1 = self.get_mean(lst1)\n",
    "        mean_lst2 = self.get_mean(lst2)\n",
    "        product_total = 0\n",
    "        for i in range(0,len(lst1)):\n",
    "            product_total += (lst1[i] - mean_lst1)*(lst2[i] - mean_lst2)\n",
    "        cov = product_total/(len(lst1)-1)\n",
    "        return cov\n",
    "            \n",
    "    def get_correlation(self, lst1, lst2):\n",
    "        cov = self.get_covariance(lst1,lst2)\n",
    "        std1 = self.stdev(lst1)\n",
    "        std2 = self.stdev(lst2)\n",
    "        cor = cov/(std1*std2)\n",
    "        return cor\n",
    "    \n",
    "    def create_dictionary(self):\n",
    "        data_dict = {}\n",
    "        for i in range(0,len(self.age)):\n",
    "            data_dict.update({i : [self.age[i], self.sex[i], self.bmi[i], self.children[i], self.smoker[i], self.region[i], self.charges[i]]})\n",
    "        return data_dict\n",
    "    \n",
    "    def _0_1_average(self,charges,smoker):\n",
    "            counter_0 = 0\n",
    "            counter_1 = 0\n",
    "            total_0 = 0\n",
    "            total_1 = 0\n",
    "            for i in range(0,len(smoker)):\n",
    "                if smoker[i] == 0:\n",
    "                    counter_0 += 1\n",
    "                    total_0 += charges[i]\n",
    "                else:\n",
    "                    counter_1 += 1\n",
    "                    total_1 += charges[i]\n",
    "            return total_0/counter_0, total_1/counter_1,counter_0,counter_1\n",
    "        \n",
    "    def corr_categorical_cont(self, charges, smoker):\n",
    "        non_smokers_average, smokers_average, non_smokers, smokers = self._0_1_average(charges, smoker)\n",
    "        std = self.stdev(charges)\n",
    "        n = len(charges)\n",
    "        part1 = (smokers_average - non_smokers_average) / std\n",
    "        part2 = (non_smokers*smokers)/(n*(n-1))\n",
    "        part2 = part2 ** 0.5\n",
    "        rpb = part1 * part2\n",
    "        return rpb\n",
    "    \n",
    "    def region_average(self, charges, region):\n",
    "        counter = [0 for i in range(0,4)]\n",
    "        total = [0 for i in range(0,4)]\n",
    "        for i in range(0,len(charges)):\n",
    "            if region[i] == 0:\n",
    "                counter[0] += 1\n",
    "                total[0] += charges[i]\n",
    "            elif region[i] == 1:\n",
    "                counter[1] += 1\n",
    "                total[1] += charges[i]\n",
    "            elif region[i] == 2:\n",
    "                counter[2] += 1\n",
    "                total[2] += charges[i]\n",
    "            else:\n",
    "                counter[3] += 1\n",
    "                total[3] += charges[i]\n",
    "        region_dict = {}\n",
    "        region_dict.update({\"Southwest\" : [counter[0],total[0]/counter[0]]})\n",
    "        region_dict.update({\"Southeast\" : [counter[1],total[1]/counter[1]]})\n",
    "        region_dict.update({\"Northwest\" : [counter[2],total[2]/counter[2]]})\n",
    "        region_dict.update({\"Northeast\" : [counter[3],total[3]/counter[3]]})\n",
    "        return region_dict\n",
    "                \n",
    "        "
   ]
  },
  {
   "cell_type": "markdown",
   "metadata": {},
   "source": [
    "### Let's initialize our class by passing our lists"
   ]
  },
  {
   "cell_type": "code",
   "execution_count": 14,
   "metadata": {},
   "outputs": [],
   "source": [
    "patients = Patient(age, sex, bmi, children, smoker, region, charges)"
   ]
  },
  {
   "cell_type": "markdown",
   "metadata": {},
   "source": [
    "## 1st: Time to find the average of age in our data and the correlation with the insurance_cost(charges)"
   ]
  },
  {
   "cell_type": "code",
   "execution_count": 15,
   "metadata": {},
   "outputs": [],
   "source": [
    "#We are going to call the get_mean method and the get_correlation method to get our results\n",
    "mean_age = patients.get_mean(age)\n",
    "correlation_age_charges = patients.get_correlation(age,charges)"
   ]
  },
  {
   "cell_type": "code",
   "execution_count": 16,
   "metadata": {},
   "outputs": [
    {
     "name": "stdout",
     "output_type": "stream",
     "text": [
      "The average age of our patients is 39 years of age.\n"
     ]
    }
   ],
   "source": [
    "#Let's print the results\n",
    "print(\"The average age of our patients is {} years of age.\".format(round(mean_age)))"
   ]
  },
  {
   "cell_type": "markdown",
   "metadata": {},
   "source": [
    "### We see that our patients are around 40 years of age, now we can see if age is correlated with insurance cost and if yes how much is affected by it."
   ]
  },
  {
   "cell_type": "code",
   "execution_count": 17,
   "metadata": {},
   "outputs": [
    {
     "name": "stdout",
     "output_type": "stream",
     "text": [
      "The correlation value between age and insurance cost is 0.30\n"
     ]
    }
   ],
   "source": [
    "print(\"The correlation value between age and insurance cost is {:.2f}\".format(correlation_age_charges))"
   ]
  },
  {
   "cell_type": "markdown",
   "metadata": {},
   "source": [
    "### As we see the correlation at 0.3 is a very weak positive value and that means that the linearity between these 2 values is weak. As age increases it has very little to do with the insurance cost increase."
   ]
  },
  {
   "cell_type": "markdown",
   "metadata": {},
   "source": [
    "## 2nd: We can now calculate the average of the insurance costs to get a better view of our data overall"
   ]
  },
  {
   "cell_type": "code",
   "execution_count": 18,
   "metadata": {},
   "outputs": [],
   "source": [
    "insurance_cost_mean = patients.get_mean(charges)"
   ]
  },
  {
   "cell_type": "code",
   "execution_count": 19,
   "metadata": {},
   "outputs": [
    {
     "name": "stdout",
     "output_type": "stream",
     "text": [
      "The average insurance cost in our data is 13270.42$.\n"
     ]
    }
   ],
   "source": [
    "print(\"The average insurance cost in our data is {:0.2f}$.\".format(insurance_cost_mean))"
   ]
  },
  {
   "cell_type": "code",
   "execution_count": 20,
   "metadata": {},
   "outputs": [
    {
     "name": "stdout",
     "output_type": "stream",
     "text": [
      "The maximum insurance cost is 63770.43$.\n",
      "The minimum insurance cost is 1121.87$.\n"
     ]
    }
   ],
   "source": [
    "#We can also find the min and max values to get a better idea of how are data are distributed\n",
    "print(\"The maximum insurance cost is {:0.2f}$.\".format(max(charges)))\n",
    "print(\"The minimum insurance cost is {:0.2f}$.\".format(min(charges)))"
   ]
  },
  {
   "cell_type": "markdown",
   "metadata": {},
   "source": [
    "### We can see that our has a minimum far away from the mean and 5 times bigger maximum value"
   ]
  },
  {
   "cell_type": "markdown",
   "metadata": {},
   "source": [
    "## 3d: How many patients are smokers and how many are not smokers. What is the average for each category. Attempt to find correlation between smoking and charges"
   ]
  },
  {
   "cell_type": "code",
   "execution_count": 21,
   "metadata": {},
   "outputs": [],
   "source": [
    "average_non_smokers,average_smokers, num_of_non_smokers, num_of_smokers = patients._0_1_average(charges, smoker)"
   ]
  },
  {
   "cell_type": "code",
   "execution_count": 22,
   "metadata": {},
   "outputs": [
    {
     "name": "stdout",
     "output_type": "stream",
     "text": [
      "The average insurance cost for the 1064 people who are not smoking is 8434.27$.\n",
      "The average insurance cost for the 274 people who are smoking is 32050.23$.\n"
     ]
    }
   ],
   "source": [
    "print(\"The average insurance cost for the {} people who are not smoking is {:0.2f}$.\".format(num_of_non_smokers, average_non_smokers))\n",
    "print(\"The average insurance cost for the {} people who are smoking is {:0.2f}$.\".format(num_of_smokers, average_smokers))"
   ]
  },
  {
   "cell_type": "markdown",
   "metadata": {},
   "source": [
    "### As we observe even if the people who don't smoke are ~4 times more than the people who do smoke the difference in their insurance cost average is actually 4 times lower. \n",
    "### From this perspective smoking is heavily affecting the insurance cost."
   ]
  },
  {
   "cell_type": "code",
   "execution_count": 23,
   "metadata": {},
   "outputs": [],
   "source": [
    "# We are going to use point biserial correlation to calculate the correlation between the 2 of them\n",
    "rpb = patients.corr_categorical_cont(charges, smoker)"
   ]
  },
  {
   "cell_type": "code",
   "execution_count": 24,
   "metadata": {},
   "outputs": [
    {
     "name": "stdout",
     "output_type": "stream",
     "text": [
      "The correlation between smoking and insurance cost is 0.79\n"
     ]
    }
   ],
   "source": [
    "print(\"The correlation between smoking and insurance cost is {:0.2f}\".format(rpb))"
   ]
  },
  {
   "cell_type": "markdown",
   "metadata": {},
   "source": [
    "### A correlation of 0.79 is indicating that smoking is heavily affecting the insurance cost in a positive way.\n",
    "### This correlation value also explains the huge difference between the averages of smokers and non-smokers."
   ]
  },
  {
   "cell_type": "markdown",
   "metadata": {},
   "source": [
    "## 4th: Amount of patients for each region and their average"
   ]
  },
  {
   "cell_type": "code",
   "execution_count": 25,
   "metadata": {},
   "outputs": [],
   "source": [
    "region_dict = patients.region_average(charges, region)"
   ]
  },
  {
   "cell_type": "code",
   "execution_count": 26,
   "metadata": {},
   "outputs": [
    {
     "name": "stdout",
     "output_type": "stream",
     "text": [
      "Southwest Region has 325 patients with an average of 12346.94$ insurance cost\n",
      "Southeast Region has 364 patients with an average of 14735.41$ insurance cost\n",
      "Northwest Region has 325 patients with an average of 12417.58$ insurance cost\n",
      "Northeast Region has 324 patients with an average of 13406.38$ insurance cost\n"
     ]
    }
   ],
   "source": [
    "print(\"Southwest Region has {} patients with an average of {:0.2f}$ insurance cost\".format(region_dict['Southwest'][0], region_dict['Southwest'][1]))\n",
    "print(\"Southeast Region has {} patients with an average of {:0.2f}$ insurance cost\".format(region_dict['Southeast'][0], region_dict['Southeast'][1]))\n",
    "print(\"Northwest Region has {} patients with an average of {:0.2f}$ insurance cost\".format(region_dict['Northwest'][0], region_dict['Northwest'][1]))\n",
    "print(\"Northeast Region has {} patients with an average of {:0.2f}$ insurance cost\".format(region_dict['Northeast'][0], region_dict['Northeast'][1]))"
   ]
  },
  {
   "cell_type": "markdown",
   "metadata": {},
   "source": [
    "### Every region has an equally balanced amount of patients with similar average insurance cost. That means that our sample is unbiased toward the regions"
   ]
  },
  {
   "cell_type": "markdown",
   "metadata": {},
   "source": [
    "## 5th: Check sex category for any bias between male and female"
   ]
  },
  {
   "cell_type": "code",
   "execution_count": 27,
   "metadata": {},
   "outputs": [],
   "source": [
    "male_average, female_average, male_count, female_count = patients._0_1_average(charges,sex)"
   ]
  },
  {
   "cell_type": "code",
   "execution_count": 28,
   "metadata": {},
   "outputs": [
    {
     "name": "stdout",
     "output_type": "stream",
     "text": [
      "The average insurance cost for the 676 male is 13956.75$.\n",
      "The average insurance cost for the 662 female is 12569.58$.\n"
     ]
    }
   ],
   "source": [
    "print(\"The average insurance cost for the {} male is {:0.2f}$.\".format(male_count, male_average))\n",
    "print(\"The average insurance cost for the {} female is {:0.2f}$.\".format(female_count, female_average))"
   ]
  },
  {
   "cell_type": "markdown",
   "metadata": {},
   "source": [
    "### Each sex has an almost equal amount of people with similar average, male seems to have a bit higher average. We can attempt to calculate if sex has anything to do with the prices of charges with point biserial correlation"
   ]
  },
  {
   "cell_type": "code",
   "execution_count": 29,
   "metadata": {},
   "outputs": [],
   "source": [
    "rpb2 = patients.corr_categorical_cont(charges, sex)"
   ]
  },
  {
   "cell_type": "code",
   "execution_count": 30,
   "metadata": {},
   "outputs": [
    {
     "name": "stdout",
     "output_type": "stream",
     "text": [
      "The correlation between sex and insurance cost is -0.06\n"
     ]
    }
   ],
   "source": [
    "print(\"The correlation between sex and insurance cost is {:0.2f}\".format(rpb2))"
   ]
  },
  {
   "cell_type": "markdown",
   "metadata": {},
   "source": [
    "### The correlation of -0.06 is really weak. It can be more than safely ignored and assume that sex has nothing to do with the insurance costs of each patient."
   ]
  },
  {
   "cell_type": "markdown",
   "metadata": {},
   "source": [
    "## 6th: Average bmi and correlation between bmi and insurance cost(charges)"
   ]
  },
  {
   "cell_type": "code",
   "execution_count": 31,
   "metadata": {},
   "outputs": [],
   "source": [
    "bmi_average = patients.get_mean(bmi)\n",
    "correlation_bmi_charges = patients.get_correlation(charges, bmi)"
   ]
  },
  {
   "cell_type": "code",
   "execution_count": 32,
   "metadata": {},
   "outputs": [
    {
     "name": "stdout",
     "output_type": "stream",
     "text": [
      "The average bmi of our patients is 30.66\n"
     ]
    }
   ],
   "source": [
    "print(\"The average bmi of our patients is {:0.2f}\".format(bmi_average))"
   ]
  },
  {
   "cell_type": "code",
   "execution_count": 33,
   "metadata": {},
   "outputs": [
    {
     "name": "stdout",
     "output_type": "stream",
     "text": [
      "The correlation between bmi and insurance cost is 0.20\n"
     ]
    }
   ],
   "source": [
    "print(\"The correlation between bmi and insurance cost is {:0.2f}\".format(correlation_bmi_charges))"
   ]
  },
  {
   "cell_type": "markdown",
   "metadata": {},
   "source": [
    "### The correlation of 0.20 indicates a very weak impact of bmi on the insurance cost but patients' average bmi is really high and we can attempt to inform them to lower it to be healthier in their life. According to cdc bmi of 30 and above indicates an obese person."
   ]
  },
  {
   "cell_type": "markdown",
   "metadata": {},
   "source": [
    "## 7th: If we need to get our data back to a dictionary we can use the class create_dictionary()"
   ]
  },
  {
   "cell_type": "code",
   "execution_count": 34,
   "metadata": {},
   "outputs": [],
   "source": [
    "patients_data = patients.create_dictionary()"
   ]
  },
  {
   "cell_type": "code",
   "execution_count": 35,
   "metadata": {},
   "outputs": [
    {
     "name": "stdout",
     "output_type": "stream",
     "text": [
      "[19, 1, 27.9, 0, 1, 0, 16884.924]\n"
     ]
    }
   ],
   "source": [
    "print(patients_data[0])"
   ]
  },
  {
   "cell_type": "markdown",
   "metadata": {},
   "source": [
    "## This marks the end of our analysis on the us-medical-insurance-costs dataset.\n",
    "### Takeaway results:\n",
    "### The average age of the patients is at the middle age gap of 40 and has very little to do with their insurance costs!\n",
    "###  Smokers have a significantly higher average insurance cost of 4 times of those who do not smoke while their count is actually 4 times lower than their counterpart. Smoking heavily affectes their cost and we can advise the patient to stop smoking if he wants to lower his cost!\n",
    "### None of the 4 regions holds any big difference with each other on either count or average. Only the Southeast region with slightly higher count of patients! \n",
    "###  It seems our data holds no bias against either sex(male or female) that currently holds.(Bias against other sex still exists). Their count is similar, their average is similar and according to the correlation value being male or female has no impact on the insurance cost of the patient! \n",
    "### Our patients have a really high bmi average of 30.7! According to cdc that ranks as obese so we should advise our patients to take a better care of their body and promote healthy nutrition even though bmi has a small correlation value with the insurance cost and by lowering it has almost no impact on their costs! It has though on their lives!"
   ]
  },
  {
   "cell_type": "code",
   "execution_count": 36,
   "metadata": {},
   "outputs": [
    {
     "name": "stdout",
     "output_type": "stream",
     "text": [
      "Have a nice day!\n"
     ]
    }
   ],
   "source": [
    "print(\"Have a nice day!\")"
   ]
  }
 ],
 "metadata": {
  "kernelspec": {
   "display_name": "Python 3",
   "language": "python",
   "name": "python3"
  },
  "language_info": {
   "codemirror_mode": {
    "name": "ipython",
    "version": 3
   },
   "file_extension": ".py",
   "mimetype": "text/x-python",
   "name": "python",
   "nbconvert_exporter": "python",
   "pygments_lexer": "ipython3",
   "version": "3.8.8"
  }
 },
 "nbformat": 4,
 "nbformat_minor": 4
}
